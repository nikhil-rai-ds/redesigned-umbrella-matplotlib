{
 "cells": [
  {
   "cell_type": "code",
   "execution_count": null,
   "id": "8e9889d7-402a-4624-b711-c99f3ffdfcf8",
   "metadata": {},
   "outputs": [],
   "source": [
    "import numpy as mnp"
   ]
  },
  {
   "cell_type": "code",
   "execution_count": null,
   "id": "6e1273ff-a67f-47ca-b56c-c5e35cdf73be",
   "metadata": {},
   "outputs": [],
   "source": [
    "import pandas as pd\n"
   ]
  },
  {
   "cell_type": "code",
   "execution_count": null,
   "id": "b1fc8c36-569a-443e-9753-0aaea73418e7",
   "metadata": {},
   "outputs": [],
   "source": []
  },
  {
   "cell_type": "code",
   "execution_count": null,
   "id": "3b2ae88a-0b58-4faf-bbf3-f58896ddcac4",
   "metadata": {},
   "outputs": [],
   "source": []
  },
  {
   "cell_type": "code",
   "execution_count": null,
   "id": "4ed0c61f-ec81-4440-a98e-eeed502ebe5c",
   "metadata": {},
   "outputs": [],
   "source": [
    "import pandas as pd"
   ]
  },
  {
   "cell_type": "code",
   "execution_count": null,
   "id": "4662ffee-b7d8-4d7a-b81c-ac949d6d1213",
   "metadata": {},
   "outputs": [],
   "source": [
    "import matplotlib.pyplot as plt\n"
   ]
  }
 ],
 "metadata": {
  "kernelspec": {
   "display_name": "Python 3 (ipykernel)",
   "language": "python",
   "name": "python3"
  },
  "language_info": {
   "codemirror_mode": {
    "name": "ipython",
    "version": 3
   },
   "file_extension": ".py",
   "mimetype": "text/x-python",
   "name": "python",
   "nbconvert_exporter": "python",
   "pygments_lexer": "ipython3",
   "version": "3.11.7"
  }
 },
 "nbformat": 4,
 "nbformat_minor": 5
}
